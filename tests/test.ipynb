{
 "cells": [
  {
   "cell_type": "code",
   "execution_count": 1,
   "metadata": {},
   "outputs": [],
   "source": [
    "import os\n",
    "import pandas as pd\n",
    "import pandas_ta as ta\n",
    "from dotenv import load_dotenv; load_dotenv()\n",
    "\n",
    "# Load data folder path=\n",
    "data_path = os.getenv('DATA_PATH')"
   ]
  },
  {
   "cell_type": "code",
   "execution_count": 2,
   "metadata": {},
   "outputs": [
    {
     "data": {
      "text/plain": [
       "(3569000, 5)"
      ]
     },
     "metadata": {},
     "output_type": "display_data"
    }
   ],
   "source": [
    "# Import the data\n",
    "df = pd.read_parquet(data_path)\n",
    "df = df[[\"time\", \"open\", \"high\", \"low\", \"close\", \"volume\"]]\n",
    "df = df.set_index(\"time\", drop=True)\n",
    "\n",
    "df_features = df.copy()\n",
    "display(df_features.shape)"
   ]
  },
  {
   "cell_type": "code",
   "execution_count": 3,
   "metadata": {},
   "outputs": [],
   "source": [
    "def calculate_technical_indicators(df):\n",
    "    # Define individual strategies\n",
    "    ema_strategies = [{'kind': 'ema', 'length': length} for length in range(2, 100)]\n",
    "    rsi_strategies = [{'kind': 'rsi', 'length': length} for length in range(2, 100)]\n",
    "    \n",
    "    macd_strategies = []\n",
    "    for fast in range(2, 50):\n",
    "        for slow in range(10, 100, 5):\n",
    "            if fast >= slow:\n",
    "                continue  # Fast period must be less than slow period\n",
    "            macd_strategies.append({\n",
    "                'kind': 'macd',\n",
    "                'fast': fast,\n",
    "                'slow': slow,\n",
    "                'signal': 9\n",
    "            })\n",
    "    \n",
    "    bbands_strategies = [{'kind': 'bbands', 'length': length, 'std': 2.0} for length in range(10, 100, 5)]\n",
    "    \n",
    "    stoch_strategies = [{'kind': 'stoch', 'k': k, 'd': 3, 'smooth_k': 3} for k in range(5, 100, 5)]\n",
    "    \n",
    "    atr_strategies = [{'kind': 'atr', 'length': length} for length in range(2, 100)]\n",
    "    \n",
    "    # Combine all strategies\n",
    "    all_strategies = (ema_strategies + rsi_strategies + macd_strategies +\n",
    "                      bbands_strategies + stoch_strategies + atr_strategies)\n",
    "    \n",
    "    # Create a custom strategy\n",
    "    custom_strategy = ta.Strategy(\n",
    "        name=\"Custom Indicators\",\n",
    "        ta=all_strategies\n",
    "    )\n",
    "    \n",
    "    # Run the strategy\n",
    "    df.ta.strategy(custom_strategy)\n",
    "    \n",
    "    # Prepare a dictionary to hold new columns\n",
    "    new_columns = {}\n",
    "    \n",
    "    # Define a mapping for column renaming\n",
    "    rename_map = {\n",
    "        \"MACD\": lambda parts: f\"MACD_{parts[1]}_{parts[2]}_{parts[3]}_{parts[-1]}\",\n",
    "        \"BBL\": lambda parts: f\"Bollinger_{parts[1]}_{parts[2]}_lower\",\n",
    "        \"BBM\": lambda parts: f\"Bollinger_{parts[1]}_{parts[2]}_middle\",\n",
    "        \"BBU\": lambda parts: f\"Bollinger_{parts[1]}_{parts[2]}_upper\",\n",
    "        \"STOCHk\": lambda parts: f\"STOCH_{parts[1]}_{parts[2]}_{parts[3]}_k\",\n",
    "        \"STOCHd\": lambda parts: f\"STOCH_{parts[1]}_{parts[2]}_{parts[3]}_d\"\n",
    "    }\n",
    "    \n",
    "    # Rename columns for consistency\n",
    "    for col in df.columns:\n",
    "        if col.startswith((\"EMA\", \"RSI\", \"MACD_\", \"BBL\", \"BBM\", \"BBU\", \"STOCHk_\", \"STOCHd_\", \"ATR\")):\n",
    "            parts = col.split('_')\n",
    "            indicator = next((k for k in rename_map if col.startswith(k)), None)\n",
    "            if indicator:\n",
    "                new_name = rename_map[indicator](parts)\n",
    "            else:\n",
    "                new_name = col\n",
    "            new_columns[new_name] = df[col]\n",
    "    \n",
    "    # Create a new DataFrame with the collected columns\n",
    "    df_features = pd.DataFrame(new_columns, index=df.index)\n",
    "    \n",
    "    return df_features\n",
    "\n",
    "# Usage example\n",
    "# df_features = calculate_technical_indicators(df)\n"
   ]
  },
  {
   "cell_type": "code",
   "execution_count": null,
   "metadata": {},
   "outputs": [],
   "source": [
    "# Usage\n",
    "df_features = calculate_technical_indicators(df)"
   ]
  },
  {
   "cell_type": "code",
   "execution_count": null,
   "metadata": {},
   "outputs": [],
   "source": []
  }
 ],
 "metadata": {
  "kernelspec": {
   "display_name": "ahmedml-Os8OgqGg-py3.12",
   "language": "python",
   "name": "python3"
  },
  "language_info": {
   "codemirror_mode": {
    "name": "ipython",
    "version": 3
   },
   "file_extension": ".py",
   "mimetype": "text/x-python",
   "name": "python",
   "nbconvert_exporter": "python",
   "pygments_lexer": "ipython3",
   "version": "3.12.4"
  }
 },
 "nbformat": 4,
 "nbformat_minor": 2
}
